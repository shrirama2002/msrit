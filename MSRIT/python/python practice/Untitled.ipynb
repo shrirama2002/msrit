{
 "cells": [
  {
   "cell_type": "markdown",
   "id": "0d1aa1c1",
   "metadata": {},
   "source": [
    "# Exercise 2\n"
   ]
  },
  {
   "cell_type": "markdown",
   "id": "728ea069",
   "metadata": {},
   "source": [
    "### 1)"
   ]
  },
  {
   "cell_type": "code",
   "execution_count": 4,
   "id": "70adfc9b",
   "metadata": {},
   "outputs": [
    {
     "name": "stdout",
     "output_type": "stream",
     "text": [
      "Enter the total no. of class conducted \n",
      "45\n",
      "Enter the total no. of class attended \n",
      "21\n",
      "Student has insufficient attendance\n"
     ]
    }
   ],
   "source": [
    "class_total = int(input(\"Enter the total no. of class conducted \\n\"))\n",
    "class_attended = int(input(\"Enter the total no. of class attended \\n\"))\n",
    "attendance = (class_attended/class_total)*100\n",
    "if attendance>=75.0:\n",
    "    print(\"Student is allowed to sit in exams \\n\")\n",
    "    marks = int(input(\"Enter marks \\n\"))\n",
    "    if marks<0:\n",
    "        print(\"marks can not be negative\")\n",
    "    elif marks<25:\n",
    "        print(\"FAIL\")\n",
    "    elif marks>=25 and marks<45:\n",
    "        print(\"Grade E\")\n",
    "    elif marks>=45 and marks<50:\n",
    "        print(\"Grade D\")\n",
    "    elif marks>=50 and marks<60:\n",
    "        print(\"Grade C\")\n",
    "    elif marks>=60 and marks<80:\n",
    "        print(\"Grade B\")\n",
    "    elif marks>=80 and marks<=100:\n",
    "        print(\"Grade A\")\n",
    "    else:\n",
    "        print(\"Enter Valid marks\")\n",
    "else:\n",
    "    print(\"Student has insufficient attendance\")\n",
    "    "
   ]
  },
  {
   "cell_type": "markdown",
   "id": "ce582dad",
   "metadata": {},
   "source": [
    "### notebook)"
   ]
  },
  {
   "cell_type": "code",
   "execution_count": 6,
   "id": "53171af0",
   "metadata": {},
   "outputs": [
    {
     "name": "stdout",
     "output_type": "stream",
     "text": [
      "\u001b[1;32m m \u001b[1;34m 2\n",
      "\u001b[1;32m n \u001b[1;34m 3\n",
      "\u001b[1;32m o \u001b[1;34m 4\n"
     ]
    }
   ],
   "source": [
    "d={\"m\":2,\"n\":3,\"o\":4}\n",
    "def dprint(d,key_format = \"\\033[1;32m\",value_format = \"\\033[1;34m\"):\n",
    "    for key in d.keys() :\n",
    "        print (key_format, key, value_format, d[key])\n",
    "dprint(d)"
   ]
  },
  {
   "cell_type": "code",
   "execution_count": 7,
   "id": "ff7ca0f1",
   "metadata": {},
   "outputs": [
    {
     "data": {
      "text/plain": [
       "{'m': 2, 'n': 3, 'o': 4}"
      ]
     },
     "execution_count": 7,
     "metadata": {},
     "output_type": "execute_result"
    }
   ],
   "source": [
    "d\n"
   ]
  },
  {
   "cell_type": "code",
   "execution_count": 8,
   "id": "47b123e3",
   "metadata": {},
   "outputs": [
    {
     "name": "stdout",
     "output_type": "stream",
     "text": [
      "\u001b[1;31m key1 \u001b[1;34m value1\n",
      "\u001b[1;31m key2 \u001b[1;34m value2\n",
      "\u001b[1;31m key3 \u001b[1;34m value3\n",
      "\u001b[0m\n"
     ]
    }
   ],
   "source": [
    "red = \"\\033[1;31m\"\n",
    "blue = \"\\033[1;34m\"\n",
    "green = \"\\033[1;32m\"\n",
    "no_color = \"\\033[0m\"\n",
    "\n",
    "out = {\n",
    "    'key1' : 'value1',\n",
    "    'key2' : 'value2',\n",
    "    'key3' : 'value3' }\n",
    "\n",
    "for key in out.keys () :\n",
    "    print (red, key, blue, out [key])\n",
    "print (no_color)"
   ]
  },
  {
   "cell_type": "markdown",
   "id": "25ac8bef",
   "metadata": {},
   "source": [
    "### 2)"
   ]
  },
  {
   "cell_type": "code",
   "execution_count": 2,
   "id": "46c855cc",
   "metadata": {},
   "outputs": [
    {
     "name": "stdout",
     "output_type": "stream",
     "text": [
      "Enter the product code 1,2 or 3 only \n",
      "4\n",
      "Invalid Product Code \n",
      "\n"
     ]
    }
   ],
   "source": [
    "pcode = int(input(\"Enter the product code 1,2 or 3 only \\n\"))\n",
    "if pcode<1 or pcode>3:\n",
    "    print(\"Invalid Product Code \\n\")\n",
    "else:\n",
    "    o_amount = int(input(\"Enter order amount \\n\"))\n",
    "    net_amount = o_amount\n",
    "    if pcode==1 and o_amount>1000:\n",
    "        net_amount=o_amount-(o_amount*0.10)\n",
    "    elif pcode==2 and o_amount>100:\n",
    "        net_amount=o_amount-(o_amount*0.05)\n",
    "    elif pcode==3 and o_amount>500:\n",
    "        net_amount=o_amount-(o_amount*0.10)\n",
    "    print(\"Total Payable amount: \",net_amount)"
   ]
  },
  {
   "cell_type": "code",
   "execution_count": null,
   "id": "7522f30a",
   "metadata": {},
   "outputs": [],
   "source": []
  }
 ],
 "metadata": {
  "kernelspec": {
   "display_name": "Python 3 (ipykernel)",
   "language": "python",
   "name": "python3"
  },
  "language_info": {
   "codemirror_mode": {
    "name": "ipython",
    "version": 3
   },
   "file_extension": ".py",
   "mimetype": "text/x-python",
   "name": "python",
   "nbconvert_exporter": "python",
   "pygments_lexer": "ipython3",
   "version": "3.9.12"
  }
 },
 "nbformat": 4,
 "nbformat_minor": 5
}
